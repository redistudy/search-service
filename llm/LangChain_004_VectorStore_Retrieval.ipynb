{
 "cells": [
  {
   "cell_type": "markdown",
   "metadata": {},
   "source": [
    "## 2. 벡터 저장소 (Vector Store)"
   ]
  },
  {
   "cell_type": "markdown",
   "metadata": {},
   "source": [
    " "
   ]
  },
  {
   "cell_type": "code",
   "execution_count": null,
   "metadata": {},
   "outputs": [],
   "source": [
    "from langchain_huggingface.embeddings import HuggingFaceEmbeddings\n",
    "\n",
    "embeddings_model = HuggingFaceEmbeddings(model_name=\"BAAI/bge-m3\")"
   ]
  },
  {
   "cell_type": "code",
   "execution_count": null,
   "metadata": {},
   "outputs": [],
   "source": [
    "from langchain_elasticsearch import ElasticsearchStore\n",
    "\n",
    "vector_poi = \"vector_poi_v2\"\n",
    "\n",
    "vector_store = ElasticsearchStore(\n",
    "    embedding=embeddings_model,\n",
    "    index_name=vector_poi,\n",
    "    es_url=\"http://localhost:9200\"\n",
    ")"
   ]
  },
  {
   "cell_type": "code",
   "execution_count": null,
   "metadata": {},
   "outputs": [],
   "source": [
    "import pandas as pd\n",
    "\n",
    "fielePath = \"./data/poi_data.csv\"\n",
    "\n",
    "def read_excel_as_list(file_path):\n",
    "    # Excel 파일 읽기\n",
    "    try:\n",
    "        # pandas로 Excel 파일 읽기\n",
    "        df = pd.read_csv(file_path, encoding='utf-8')\n",
    "        \n",
    "        # DataFrame을 리스트로 변환\n",
    "        data_list = df.values.tolist()\n",
    "\n",
    "        return data_list\n",
    "\n",
    "    except Exception as e:\n",
    "        print(f\"Error reading the Excel file: {e}\")\n",
    "        return []\n",
    "\n",
    "data_list = read_excel_as_list(file_path=fielePath)\n",
    "print(data_list[1])\n",
    "for i in range(len(data_list[1])):\n",
    "    print(i , data_list[1][i])\n",
    "print(len(data_list))"
   ]
  },
  {
   "cell_type": "code",
   "execution_count": null,
   "metadata": {},
   "outputs": [],
   "source": [
    "import math\n",
    "\n",
    "a    = 6378137.0               \n",
    "f    = 1 / 298.257222101      \n",
    "lat0 = 38.0 * math.pi / 180.0  \n",
    "lon0 = 127.0 * math.pi / 180.0 \n",
    "k0   = 1.0                     \n",
    "x0   = 200000.0                \n",
    "y0   = 500000.0   \n",
    "\n",
    "def tm_to_wgs84(x, y):\n",
    "\n",
    "    math.sqrt(2 * f- f * f)\n",
    "    n = f / (2 - f)\n",
    "    A = a / (1 + n) * (1 + n*n/4 + n*n*n*n/64)\n",
    "\n",
    "    x = x - x0\n",
    "    y = y - y0\n",
    "\n",
    "    lat = lat0 \n",
    "    for i in range(5):\n",
    "        lat = (y / (k0 * A)) + lat0\n",
    "\t\n",
    "    lon = lon0 + (x / (k0 * A * math.cos(lat)))\n",
    "    lat_deg = lat * 180.0 / math.pi\n",
    "    lon_deg = lon * 180.0 / math.pi\n",
    "\n",
    "    return lon_deg, lat_deg"
   ]
  },
  {
   "cell_type": "markdown",
   "metadata": {},
   "source": [
    "# embedding field using embedded model \n"
   ]
  },
  {
   "cell_type": "code",
   "execution_count": null,
   "metadata": {},
   "outputs": [],
   "source": [
    "# declare variance\n",
    "es_url = \"http://localhost:9200\"\n",
    "es_index_name = \"vector_poi_v2\"\n",
    "\n",
    "mapping = {\n",
    "    \"mappings\": {\n",
    "        \"properties\": {\n",
    "            \"title_vector\": {  # title 벡터 필드\n",
    "                \"type\": \"dense_vector\",\n",
    "                \"dims\": 1024  # Hugging Face 모델에서 생성된 벡터 차원 수\n",
    "            },\n",
    "            \"address_vector\": {  # address 벡터 필드\n",
    "                \"type\": \"dense_vector\",\n",
    "                \"dims\": 1024\n",
    "            },\n",
    "            \"location\": {  # lat, lon을 포함하는 geo_point 필드\n",
    "                \"type\": \"geo_point\"\n",
    "            },\n",
    "            \"title\": {  # title 원본 텍스트\n",
    "                \"type\": \"text\"\n",
    "            },\n",
    "            \"address\": {  # address 원본 텍스트\n",
    "                \"type\": \"text\"\n",
    "            },\n",
    "            \"category\" : {\n",
    "                \"properties\" : {\n",
    "                    \"big\" : {\n",
    "                        \"type\": \"text\"\n",
    "                    },\n",
    "                    \"medium\": {\n",
    "                        \"type\": \"text\"\n",
    "                    },\n",
    "                    \"small\": {\n",
    "                        \"type\": \"text\"\n",
    "                    }\n",
    "                }\n",
    "            }\n",
    "        }\n",
    "    }\n",
    "}\n",
    "\n",
    "template = {\n",
    "    \"title\": \"{{title}}\",\n",
    "    \"address\": \"{{address}}\",\n",
    "    \"location\": {\n",
    "        \"lat\": \"{{lat}}\",\n",
    "        \"lon\": \"{{lon}}\"\n",
    "    },\n",
    "    \"vector\": \"{{vector}}\"\n",
    "}\n",
    "\n"
   ]
  },
  {
   "cell_type": "code",
   "execution_count": null,
   "metadata": {},
   "outputs": [],
   "source": [
    "from elasticsearch import Elasticsearch\n",
    "\n",
    "# Elasticsearch 클라이언트 초기화\n",
    "es = Elasticsearch(\"http://localhost:9200\")\n",
    "\n",
    "\n",
    "# 인덱스 생성\n",
    "if not es.indices.exists(index=es_index_name):\n",
    "    es.indices.create(index=es_index_name, body=mapping)\n",
    "    print(f\"Elasticsearch 인덱스 '{es_index_name}'가 생성되었습니다.\")\n",
    "else:\n",
    "    print(f\"Elasticsearch 인덱스 '{es_index_name}'는 이미 존재합니다.\")"
   ]
  },
  {
   "cell_type": "code",
   "execution_count": null,
   "metadata": {},
   "outputs": [],
   "source": [
    "from elasticsearch import helpers\n",
    "import json\n",
    "\n",
    "bulk_data = []\n",
    "for doc in data_list:\n",
    "    title_vector = embeddings_model.embed_query(doc[1])\n",
    "    address_vector = embeddings_model.embed_query(doc[24])\n",
    "    source = {\n",
    "         \"_index\": es_index_name, \n",
    "        \"_source\": {\n",
    "            \"title\": doc[1],\n",
    "            \"address\": doc[24],\n",
    "            \"title_vector\": title_vector,\n",
    "            \"address_vector\": address_vector,\n",
    "            \"location\": {\"lat\": doc[38], \"lon\": doc[37]},\n",
    "            \"category\" : {\n",
    "                \"big\" : doc[4],\n",
    "                \"medium\" : doc[6],\n",
    "                \"small\" : doc[8]\n",
    "            }\n",
    "        }\n",
    "    }\n",
    "    bulk_data.append(source)\n",
    "    if len(bulk_data) == 1000:\n",
    "        helpers.bulk(es, bulk_data)\n",
    "        bulk_data = []\n",
    "        print(\"inserting bulk is complete\")\n",
    "\n",
    "helpers.bulk(es, bulk_data)\n",
    "bulk_data = []\n",
    "    "
   ]
  },
  {
   "cell_type": "code",
   "execution_count": null,
   "metadata": {},
   "outputs": [],
   "source": [
    "from elasticsearch import helpers\n",
    "import json\n",
    "\n",
    "vector = [item['_source']['title_vector'] for item in bulk_data]\n",
    "print(len(vector[0]))\n",
    "\n",
    "helpers.bulk(es, bulk_data)\n",
    "print(\"inserting bulk is complete\")"
   ]
  },
  {
   "cell_type": "markdown",
   "metadata": {},
   "source": [
    "## 검색"
   ]
  },
  {
   "cell_type": "code",
   "execution_count": null,
   "metadata": {},
   "outputs": [],
   "source": [
    "query_text = \"마포 김밥천국\"  # 검색할 텍스트\n",
    "query_embedding = embeddings_model.embed_query(query_text)  # 쿼리를 벡터화\n",
    "# Elasticsearch 검색 요청\n",
    "search_query = {\n",
    "    \"_source\" : [\"title\", \"address\", \"location\"],\n",
    "    \"query\": {\n",
    "        \"script_score\": {\n",
    "            \"query\": {\n",
    "                \"match_all\": {}  # 모든 문서에서 스코어 기반 필터링\n",
    "            },\n",
    "            \"script\": {\n",
    "                \"source\": \"\"\"\n",
    "                    cosineSimilarity(params.query_vector, 'title_vector') + \n",
    "                    cosineSimilarity(params.query_vector, 'address_vector')\n",
    "                \"\"\",\n",
    "                \"params\": {\n",
    "                    \"query_vector\": query_embedding\n",
    "                }\n",
    "            }\n",
    "        }\n",
    "    }\n",
    "}\n",
    "print(search_query)\n",
    "\n",
    "\n",
    "# 검색 요청 실행\n",
    "response = es.search(index=es_index_name, body=search_query)\n",
    "\n",
    "# 검색 결과 출력\n",
    "print(\"벡터 검색 결과:\")\n",
    "for hit in response[\"hits\"][\"hits\"]:\n",
    "    print(hit[\"_source\"])\n",
    "\n"
   ]
  },
  {
   "cell_type": "markdown",
   "metadata": {},
   "source": [
    "## 광고 샘플 인덱스 생성    "
   ]
  },
  {
   "cell_type": "markdown",
   "metadata": {},
   "source": [
    "### 광고 샘플 인덱스 설정 "
   ]
  },
  {
   "cell_type": "code",
   "execution_count": null,
   "metadata": {},
   "outputs": [],
   "source": [
    "advertisement_index_name = \"advertisement_poi\"\n",
    "\n",
    "advertisemment_mapping = {\n",
    "    \"mappings\": {\n",
    "        \"properties\": {\n",
    "            \"title_vector\": {  # title 벡터 필드\n",
    "                \"type\": \"dense_vector\",\n",
    "                \"dims\": 1024  # Hugging Face 모델에서 생성된 벡터 차원 수\n",
    "            },\n",
    "            \"address_vector\": {  # address 벡터 필드\n",
    "                \"type\": \"dense_vector\",\n",
    "                \"dims\": 1024\n",
    "            },\n",
    "            \"location\": {  # lat, lon을 포함하는 geo_point 필드\n",
    "                \"type\": \"geo_point\"\n",
    "            },\n",
    "            \"title\": {  # title 원본 텍스트\n",
    "                \"type\": \"text\"\n",
    "            },\n",
    "            \"address\": {  # address 원본 텍스트\n",
    "                \"type\": \"text\"\n",
    "            },\n",
    "            \"category\" : {\n",
    "                \"properties\" : {\n",
    "                    \"big\" : {\n",
    "                        \"type\": \"text\"\n",
    "                    },\n",
    "                    \"medium\": {\n",
    "                        \"type\": \"text\"\n",
    "                    },\n",
    "                    \"small\": {\n",
    "                        \"type\": \"text\"\n",
    "                    }\n",
    "                }\n",
    "            }\n",
    "        }\n",
    "    }\n",
    "}"
   ]
  },
  {
   "cell_type": "markdown",
   "metadata": {},
   "source": [
    "### 광고 인덱스 데이터 생성"
   ]
  },
  {
   "cell_type": "code",
   "execution_count": null,
   "metadata": {},
   "outputs": [],
   "source": [
    "# reindex API를 통해 기존 인덱스의 데이터를 새 인덱스로 복사\n",
    "reindex_body = {\n",
    "    \"source\": {\n",
    "        \"index\": \"vector_poi_v2\"\n",
    "    },\n",
    "    \"dest\": {\n",
    "        \"index\": advertisement_index_name\n",
    "    }\n",
    "}\n",
    "\n",
    "response = es.reindex(body=reindex_body, wait_for_completion=False, request_timeout=3600)\n",
    "print(\"Reindex 결과:\", response)"
   ]
  },
  {
   "cell_type": "code",
   "execution_count": null,
   "metadata": {},
   "outputs": [],
   "source": [
    "from elasticsearch import Elasticsearch\n",
    "\n",
    "# Elasticsearch 클라이언트 초기화\n",
    "es = Elasticsearch(\"http://localhost:9200\")\n",
    "\n",
    "# 인덱스 생성\n",
    "if not es.indices.exists(index=advertisement_index_name):\n",
    "    es.indices.create(index=advertisement_index_name, body=advertisemment_mapping)\n",
    "    print(f\"Elasticsearch 인덱스 '{advertisement_index_name}'가 생성되었습니다.\")\n",
    "else:\n",
    "    print(f\"Elasticsearch 인덱스 '{advertisement_index_name}'는 이미 존재합니다.\")"
   ]
  },
  {
   "cell_type": "markdown",
   "metadata": {},
   "source": [
    "## User feature store"
   ]
  },
  {
   "cell_type": "markdown",
   "metadata": {},
   "source": [
    "### 임의의 10명 MOCK 로그 데이터 추가"
   ]
  },
  {
   "cell_type": "code",
   "execution_count": null,
   "metadata": {},
   "outputs": [],
   "source": [
    "from transformers import pipeline\n",
    "import numpy as np\n",
    "import redis\n",
    "import json\n",
    "\n",
    "# Redis 연결 설정 (예: localhost, 기본 포트 6379, DB 0)\n",
    "redis_client = redis.Redis(host='localhost', port=6379, db=0)\n",
    "\n",
    "# BAAI/bge-m3 모델로 임베딩(Feature Extraction) 파이프라인 설정\n",
    "pipe = pipeline(\n",
    "    \"feature-extraction\",\n",
    "    model=\"BAAI/bge-m3\"\n",
    ")\n",
    "\n",
    "# 10명의 사용자에 대한 예시 텍스트 (사용자 검색 로그 등)\n",
    "user_texts = [\n",
    "    \"강남역 카페, 홍대 맛집, 스타벅스, 카페/베이커리\",\n",
    "    \"명동 쇼핑, 코엑스, 롯데월드, 백화점\",\n",
    "    \"서울의 밤, 한강, 남산타워, 야경\",\n",
    "    \"부산 해운대, 해수욕, 맛집, 카페\",\n",
    "    \"대구 맛집, 동성로, 카페, 빵집\",\n",
    "    \"인천 차이나타운, 맛집, 문화\",\n",
    "    \"제주도 여행, 해변, 한라산, 맛집\",\n",
    "    \"경주 유적지, 역사, 문화, 맛집\",\n",
    "    \"수원 화성, 전통, 맛집, 카페\",\n",
    "    \"강원도 설악산, 자연, 트래킹, 산책\"\n",
    "]\n",
    "\n",
    "# 각 사용자에 대해 임베딩 생성 후 Redis에 저장\n",
    "for i, text in enumerate(user_texts, start=1):\n",
    "    # 임베딩 추출: 결과는 대체로 3차원 리스트 (batch, tokens, vector_dim)\n",
    "    embedding_output = pipe(text)\n",
    "    # 첫 번째 배치의 모든 토큰 임베딩을 평균 풀링 (간단한 방식)\n",
    "    token_embeddings = np.array(embedding_output[0])  # shape = (sequence_length, hidden_dim)\n",
    "    pooled_embedding = token_embeddings.mean(axis=0)   # shape = (hidden_dim, )\n",
    "    \n",
    "    # 사용자 아이디 설정 (예: \"user_id_1\", \"user_id_2\", ...)\n",
    "    user_id = f\"user_id_{i}\"\n",
    "    \n",
    "    # numpy 배열을 리스트로 변환 후 JSON 문자열로 변환하여 Redis에 저장\n",
    "    redis_client.set(user_id, json.dumps(pooled_embedding.tolist()))\n",
    "    \n",
    "    print(f\"{user_id} 임베딩 벡터 저장 완료. 벡터 크기: {pooled_embedding.shape}\")\n",
    "\n",
    "print(\"모든 사용자 임베딩 벡터가 Redis에 저장되었습니다.\")"
   ]
  },
  {
   "cell_type": "code",
   "execution_count": null,
   "metadata": {},
   "outputs": [],
   "source": []
  },
  {
   "cell_type": "code",
   "execution_count": null,
   "metadata": {},
   "outputs": [],
   "source": []
  }
 ],
 "metadata": {
  "kernelspec": {
   "display_name": ".venv",
   "language": "python",
   "name": "python3"
  },
  "language_info": {
   "codemirror_mode": {
    "name": "ipython",
    "version": 3
   },
   "file_extension": ".py",
   "mimetype": "text/x-python",
   "name": "python",
   "nbconvert_exporter": "python",
   "pygments_lexer": "ipython3",
   "version": "3.11.11"
  }
 },
 "nbformat": 4,
 "nbformat_minor": 2
}
